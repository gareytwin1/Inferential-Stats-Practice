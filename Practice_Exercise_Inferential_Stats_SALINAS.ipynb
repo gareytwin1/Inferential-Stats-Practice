{
 "cells": [
  {
   "cell_type": "markdown",
   "metadata": {},
   "source": [
    "### Importing the necessary libraries"
   ]
  },
  {
   "cell_type": "code",
   "execution_count": 1,
   "metadata": {},
   "outputs": [],
   "source": [
    "#Scipy has all the probability distributions available along with many statistical functions\n",
    "import scipy.stats as stats \n",
    "import numpy as np"
   ]
  },
  {
   "cell_type": "markdown",
   "metadata": {
    "colab_type": "text",
    "id": "kZKUSLYeabpy"
   },
   "source": [
    "# Problems on Probability "
   ]
  },
  {
   "cell_type": "markdown",
   "metadata": {},
   "source": [
    "1) A multinational bank is concerned about the waiting time of its customers before they use the ATM for their transactions. A study of a random sample of 500 customers reveals the following probability distribution. The below table shows  the distribution."
   ]
  },
  {
   "cell_type": "markdown",
   "metadata": {},
   "source": [
    "Waiting time(in minutes)  | Probability\n",
    "------------- | -------------\n",
    "0             | 0.2\n",
    "1             | 0.18\n",
    "2             | 0.16\n",
    "3             | 0.12\n",
    "4             | 0.1\n",
    "5             | 0.09\n",
    "6             | 0.08\n",
    "7             | 0.04\n",
    "8             | 0.03"
   ]
  },
  {
   "cell_type": "markdown",
   "metadata": {
    "colab_type": "text",
    "id": "YTFFj255abqC"
   },
   "source": [
    "**a) What is the probability that a customer will have to wait for more than 5 minutes?**"
   ]
  },
  {
   "cell_type": "code",
   "execution_count": 2,
   "metadata": {},
   "outputs": [],
   "source": [
    "poisson = np.array([.2,.18,.16,.12,.1,.09,.08,.04,.03])"
   ]
  },
  {
   "cell_type": "code",
   "execution_count": 59,
   "metadata": {},
   "outputs": [
    {
     "name": "stdout",
     "output_type": "stream",
     "text": [
      "The probability that a customer will have to wait for more than 5 minutes is 0.006\n"
     ]
    }
   ],
   "source": [
    "prob = np.sum(poisson[6:]) # use np.sum instead of value.sum().\n",
    "print(f\"The probability that a customer will have to wait for more than 5 minutes is {prob.round(4)}\")"
   ]
  },
  {
   "cell_type": "markdown",
   "metadata": {
    "colab_type": "text",
    "id": "yJNgHPxHabqR"
   },
   "source": [
    "**b) What is the probability that when customers visit the bank they will not have to wait at all?**"
   ]
  },
  {
   "cell_type": "code",
   "execution_count": 4,
   "metadata": {},
   "outputs": [
    {
     "name": "stdout",
     "output_type": "stream",
     "text": [
      "The probability that the customer will not have to wait at all is 0.200\n"
     ]
    }
   ],
   "source": [
    "prob = poisson[0]\n",
    "print(f\"The probability that the customer will not have to wait at all is {prob:.3f}\")"
   ]
  },
  {
   "cell_type": "markdown",
   "metadata": {
    "colab_type": "text",
    "id": "nWkCSCmTabqc"
   },
   "source": [
    "#### c) What is the expected waiting time for a customer?\n",
    "\n",
    "Hint : Expected value = $\\sum P(Xi) * Xi$"
   ]
  },
  {
   "cell_type": "code",
   "execution_count": 67,
   "metadata": {},
   "outputs": [
    {
     "name": "stdout",
     "output_type": "stream",
     "text": [
      "Expected wait time for the customer is 1.6 minutes\n"
     ]
    }
   ],
   "source": [
    "value = np.array([(i*p) for i, p in enumerate(poisson)])\n",
    "#print(value)\n",
    "expected_value = np.sum(value)\n",
    "print(f\"Expected wait time for the customer is {expected_value.round(4)} minutes\")"
   ]
  },
  {
   "cell_type": "markdown",
   "metadata": {},
   "source": [
    "### 2) The past 12 months data of a car renting company shows that 45.8% of people rented a car for business purposes, 54% rented a car for personal reasons, and 30% for both personal & business reasons."
   ]
  },
  {
   "cell_type": "markdown",
   "metadata": {},
   "source": [
    "**a) What is the probability that a car was rented for business or personal reasons.**\n",
    "\n",
    "Hint : P(A or B) = P(A) + P(B) - P(A and B)"
   ]
  },
  {
   "cell_type": "code",
   "execution_count": 64,
   "metadata": {},
   "outputs": [
    {
     "name": "stdout",
     "output_type": "stream",
     "text": [
      "The probability that a car was rented for business or personal reasons is 0.698\n",
      "The probability that a car was rented for business or personal reasons is 0.698\n"
     ]
    }
   ],
   "source": [
    "# not mutually exclusive events, need to subtract out the intersection\n",
    "prob = .458 + .54 - .30\n",
    "print(f\"The probability that a car was rented for business or personal reasons is {prob:.3f}\")\n",
    "print(\"The probability that a car was rented for business or personal reasons is\", round(prob, 4))"
   ]
  },
  {
   "cell_type": "markdown",
   "metadata": {},
   "source": [
    "**b) What is the probability that a car was not rented for either business or personal reasons**\n",
    "\n",
    "Hint: Complement Rule\n",
    "\n",
    "Complement of P(A) = 1 - P(A)"
   ]
  },
  {
   "cell_type": "code",
   "execution_count": 68,
   "metadata": {},
   "outputs": [
    {
     "name": "stdout",
     "output_type": "stream",
     "text": [
      "The probability that a car was not rented for either business or personal reasons is 0.302\n",
      "The probability that a car was not rented for either business or personal reasons is 0.302\n"
     ]
    }
   ],
   "source": [
    "print(f\"The probability that a car was not rented for either business or personal reasons is {1-prob:.3f}\")\n",
    "print(\"The probability that a car was not rented for either business or personal reasons is\", round(1-prob, 3))"
   ]
  },
  {
   "cell_type": "markdown",
   "metadata": {},
   "source": [
    "## Problems on Marginal, Joint and Conditional Probability"
   ]
  },
  {
   "cell_type": "markdown",
   "metadata": {
    "colab_type": "text",
    "id": "z6SXCA82abnm"
   },
   "source": [
    "1) A multinational firm conducted a job satisfaction survey on a sample of its employees. The table below summarizes the result of the survey. Assuming that the sample drawn is a random sample from its entire employee population, the HR would like to know the probability of the following events."
   ]
  },
  {
   "cell_type": "markdown",
   "metadata": {},
   "source": [
    "Education Level | Satistfied    | Neutral | Dissatisfied | Highly Dissatisfied | Total |\n",
    "-------------   | ------------- |---------|--------------|---------------------|-------|\n",
    "Did not complete High School|10|20|30|40|100\n",
    "High School graduate|20|30|25|50|125\n",
    "Some college|30|60|35|25|150\n",
    "College Graduate|120|40|30|10|200\n",
    "Post-Graduate|60|15|0|0|75\n",
    "Total|240|165|120|125|650"
   ]
  },
  {
   "cell_type": "markdown",
   "metadata": {
    "colab_type": "text",
    "id": "Mupgl5coabn8"
   },
   "source": [
    "**a) What is the probability that a randomly selected employee would be satisfied?**"
   ]
  },
  {
   "cell_type": "code",
   "execution_count": 8,
   "metadata": {},
   "outputs": [
    {
     "name": "stdout",
     "output_type": "stream",
     "text": [
      "The probability of a satisfied employee is 0.369\n"
     ]
    }
   ],
   "source": [
    "prob = (240/650)\n",
    "print(f\"The probability of a satisfied employee is {prob:.3f}\")"
   ]
  },
  {
   "cell_type": "markdown",
   "metadata": {
    "colab_type": "text",
    "id": "BFH6MWRGaboL"
   },
   "source": [
    "**b) What percentage of employees are at a risk of attrition? (Assume a dissatisfied employee will attrite eventually.)**"
   ]
  },
  {
   "cell_type": "code",
   "execution_count": 9,
   "metadata": {},
   "outputs": [
    {
     "name": "stdout",
     "output_type": "stream",
     "text": [
      "The percentage of employees at a risk of attrition is 37.7%\n"
     ]
    }
   ],
   "source": [
    "perc = (120+125)/650*100\n",
    "print(f\"The percentage of employees at a risk of attrition is {perc:.1f}%\")"
   ]
  },
  {
   "cell_type": "markdown",
   "metadata": {
    "colab_type": "text",
    "id": "m2XCRk9raboY"
   },
   "source": [
    "**c) If a dissatisfied employee attrite with probability 0.4 within a year, what is the probability of an employee to attrite in a year?** (Do not consider neutral employees)\n",
    "\n",
    "Hint : \n",
    "P(An employee will attrite) = P(Employee dissatisfied AND Employee attrite) = P(Employee dissatisfied) * P(Employee attrite|Dissatisfied)"
   ]
  },
  {
   "cell_type": "code",
   "execution_count": 10,
   "metadata": {},
   "outputs": [
    {
     "name": "stdout",
     "output_type": "stream",
     "text": [
      "The probability that an employee will attrite is 0.151\n"
     ]
    }
   ],
   "source": [
    "prob = 0.4 * ((120 + 125)/650) \n",
    "print(f\"The probability that an employee will attrite is {prob:.3f}\")"
   ]
  },
  {
   "cell_type": "markdown",
   "metadata": {
    "colab_type": "text",
    "id": "xmx8lYlxabok"
   },
   "source": [
    "**d) If an employee is selected randomly, what is the probability that he/she at least a high school graduate?**\n",
    "\n",
    "Hint : P(At least High School) = P(High school) + P(Some college) + P(College Grad) + P(Post-Grad) = 1 – P(Did not complete school)"
   ]
  },
  {
   "cell_type": "code",
   "execution_count": 11,
   "metadata": {},
   "outputs": [
    {
     "name": "stdout",
     "output_type": "stream",
     "text": [
      "The probability that the employee is at least a high school graduate is 0.846\n"
     ]
    }
   ],
   "source": [
    "prob = 1 - (100/650)\n",
    "print(f\"The probability that the employee is at least a high school graduate is {prob:.3f}\")"
   ]
  },
  {
   "cell_type": "markdown",
   "metadata": {
    "colab_type": "text",
    "id": "IBV1bm5xabo0"
   },
   "source": [
    "**e) What is the probability that employees who are college graduate or more are satisfied?**"
   ]
  },
  {
   "cell_type": "code",
   "execution_count": 12,
   "metadata": {},
   "outputs": [
    {
     "name": "stdout",
     "output_type": "stream",
     "text": [
      "The probability that employees who are college graduate or more are satisfied is 0.655\n"
     ]
    }
   ],
   "source": [
    "prob = (180/275)\n",
    "print(f\"The probability that employees who are college graduate or more are satisfied is {prob:.3f}\")"
   ]
  },
  {
   "cell_type": "markdown",
   "metadata": {
    "colab_type": "text",
    "id": "Xkjip77VabpG"
   },
   "source": [
    "**f) Among the employees who have at least some college education, what percentage of employees are either satisfied or neutral?**\n",
    "\n",
    "Hint :  Calculate Probability(Not dissatisfied | at least some college) "
   ]
  },
  {
   "cell_type": "code",
   "execution_count": 69,
   "metadata": {},
   "outputs": [
    {
     "name": "stdout",
     "output_type": "stream",
     "text": [
      "The percentage of employees with some college education who are either satisfied or neutral is 76.5%\n"
     ]
    }
   ],
   "source": [
    "prob = (90 + 160 + 75)/(150 + 200 + 75) * 100\n",
    "print(f\"The percentage of employees with some college education who are either satisfied or neutral is {prob:.1f}%\")"
   ]
  },
  {
   "cell_type": "markdown",
   "metadata": {
    "colab_type": "text",
    "id": "CauMml5OabpU"
   },
   "source": [
    "**g) Among the employees who are not satisfied, what percentage of employees are college graduate or more?**\n",
    "\n",
    "Hint :  Calculate Probability(College Grad or Post-grad | Not satisfied)"
   ]
  },
  {
   "cell_type": "code",
   "execution_count": 14,
   "metadata": {},
   "outputs": [
    {
     "name": "stdout",
     "output_type": "stream",
     "text": [
      "Among those employees not satisfied, the percentage of employees who are college grads or more is 23.17%\n"
     ]
    }
   ],
   "source": [
    "prob = ((40 + 30 + 10 + 15)/(165 + 120 + 125)) * 100\n",
    "print(f\"Among those employees not satisfied, the percentage of employees who are college grads or more is {prob:.2f}%\")"
   ]
  },
  {
   "cell_type": "markdown",
   "metadata": {
    "colab_type": "text",
    "id": "WVMECr3wabpg"
   },
   "source": [
    "**h) Among the employees who have not had any college education, what percentage of employyes are not highly dissatisfied?**"
   ]
  },
  {
   "cell_type": "code",
   "execution_count": 15,
   "metadata": {},
   "outputs": [
    {
     "name": "stdout",
     "output_type": "stream",
     "text": [
      "Among those employees with no college, the percentage of employees who are highly dissatisfied is 60.0%\n"
     ]
    }
   ],
   "source": [
    "prob = (1 - (90/225)) * 100\n",
    "print(f\"Among those employees with no college, the percentage of employees who are highly dissatisfied is {prob:.1f}%\")"
   ]
  },
  {
   "cell_type": "markdown",
   "metadata": {},
   "source": [
    "2) A company collected data on how many people were planning to purchase iPhone Xs Max and how many of them ended up actually placing the order and how many didn't:"
   ]
  },
  {
   "cell_type": "markdown",
   "metadata": {},
   "source": [
    "\n",
    "\n",
    "|Planned to purchase Apple iPhone Xs Max| Actually placed an order for Apple iPhone Xs Max- Yes| Actually placed an order for Apple iPhone Xs Max - No|Total|\n",
    "|--|--|--|--|\n",
    "|Yes|400|100|500|\n",
    "|No|200|1300|1500|\n",
    "|Total|600|1400|2000|\n"
   ]
  },
  {
   "cell_type": "markdown",
   "metadata": {},
   "source": [
    "**a) What percenatge of the population makes a planned purchase?**"
   ]
  },
  {
   "cell_type": "code",
   "execution_count": 16,
   "metadata": {},
   "outputs": [
    {
     "name": "stdout",
     "output_type": "stream",
     "text": [
      "The percentage of the population that made a planned purchase is 20.0%\n"
     ]
    }
   ],
   "source": [
    "prob = 400/2000 * 100\n",
    "print(f\"The percentage of the population that made a planned purchase is {prob:.1f}%\")"
   ]
  },
  {
   "cell_type": "markdown",
   "metadata": {},
   "source": [
    "**b) Out of all those people who planned to buy an iPhone, What percentage of them actually placed an order?**"
   ]
  },
  {
   "cell_type": "code",
   "execution_count": 17,
   "metadata": {},
   "outputs": [
    {
     "name": "stdout",
     "output_type": "stream",
     "text": [
      "The percentage of those who planned to buy an iPhone and actually bought one is 80.0%\n"
     ]
    }
   ],
   "source": [
    "prob = 400/500* 100\n",
    "print(f\"The percentage of those who planned to buy an iPhone and actually bought one is {prob:.1f}%\")"
   ]
  },
  {
   "cell_type": "markdown",
   "metadata": {},
   "source": [
    "### 3) Visa Card studied how frequently, young consumers, ages 18-24, use plastic cards. The results provided the following probabilities. \n",
    "\n",
    "•\tProbability that a consumer uses a plastic card when making a purchase .37\n",
    "\n",
    "•\tGiven that consumer uses a plastic card, there is a .19 probability That the consumer is 18-24 years old. \n",
    "\n",
    "•\tGiven that consumer uses a plastic card, there is a .81 probability That the consumer is 24+ years old.\n",
    "\n",
    "•\t14% of the consumer population is between 18-24 years\n"
   ]
  },
  {
   "cell_type": "markdown",
   "metadata": {},
   "source": [
    "Age Group| 18-24| older than 24| Total\n",
    "---------| -----| -------------|------\n",
    "Consumer uses plastic cards|0.37 * 0.19 = 0.0703| 0.81* 0.37=0.2997| 0.37\n",
    "Consumer does not use plastic cards| 0.14 - 0.0703 = 0.0697| 0.86 - 0.2997 =0.5603| 1 - 0.37 = 0.63\n",
    "Total|0.14|1-0.14 = 0.86|1"
   ]
  },
  {
   "cell_type": "markdown",
   "metadata": {},
   "source": [
    "**a) Given the consumer is between 18-24, what is the probability that the consumer uses plastic card**"
   ]
  },
  {
   "cell_type": "code",
   "execution_count": 18,
   "metadata": {},
   "outputs": [
    {
     "name": "stdout",
     "output_type": "stream",
     "text": [
      "The probability that the customer uses plastic card is 0.502\n"
     ]
    }
   ],
   "source": [
    "prob = .0703/.14\n",
    "print(f\"The probability that the customer uses plastic card is {prob:.3f}\")"
   ]
  },
  {
   "cell_type": "markdown",
   "metadata": {},
   "source": [
    "**b) Given the consumer is 24+, what is the probability that the consumer uses plastic card**"
   ]
  },
  {
   "cell_type": "code",
   "execution_count": 19,
   "metadata": {},
   "outputs": [
    {
     "name": "stdout",
     "output_type": "stream",
     "text": [
      "The probability that the customer uses plastic card is 0.348\n"
     ]
    }
   ],
   "source": [
    "prob = .2997/.86\n",
    "print(f\"The probability that the customer uses plastic card is {prob:.3f}\")"
   ]
  },
  {
   "cell_type": "markdown",
   "metadata": {},
   "source": [
    "-----------------"
   ]
  },
  {
   "cell_type": "markdown",
   "metadata": {},
   "source": [
    "# Problem on Bayes' Theorem"
   ]
  },
  {
   "cell_type": "markdown",
   "metadata": {},
   "source": [
    "1) A local bank reviewed its credit card policy with the intention of recalling some of its credit cards. In the past approx. 5% of cardholders defaulted, leaving the bank unable to collect the outstanding balance. Hence, management established a prior probability of 0.05 that any particular cardholder will default. The bank also found that the probability of missing a monthly payment is .20 for customers who do not default. The probability of missing a monthly payment for those whose default is 0.5."
   ]
  },
  {
   "cell_type": "markdown",
   "metadata": {},
   "source": [
    "**Given that a customer missed one or more monthly payments, compute the probability\n",
    "that a customer will default**"
   ]
  },
  {
   "attachments": {
    "image.png": {
     "image/png": "[encoded data removed]"
    }
   },
   "cell_type": "markdown",
   "metadata": {},
   "source": [
    "Hint : **Bayes' Theorem**\n",
    "\n",
    "<img style=\"width:25%\" src='attachment:image.png'></img>\n",
    "\n"
   ]
  },
  {
   "cell_type": "markdown",
   "metadata": {},
   "source": [
    "P(Default|Missed) = P(Missed|Default) * P(Default) / (P(Missed|Default) * P(Default) + P(Missed|Not-Default) * P(Not-Default))\n",
    "\n",
    "P(Missed|Not-Default) : Probability of missing the payment given that the customer doesn't default"
   ]
  },
  {
   "cell_type": "code",
   "execution_count": 20,
   "metadata": {},
   "outputs": [
    {
     "name": "stdout",
     "output_type": "stream",
     "text": [
      "The probability that a customer will default is 0.116\n"
     ]
    }
   ],
   "source": [
    "prob = (.5*.05)/((.5*.05) + (.2*.95))\n",
    "print(f\"The probability that a customer will default is {prob:.3f}\")"
   ]
  },
  {
   "cell_type": "markdown",
   "metadata": {
    "colab_type": "text",
    "collapsed": true,
    "id": "Pn06bUhkabuQ"
   },
   "source": [
    "### 2) A computer component is given scores (A, B, C) after production.\n",
    "\n",
    "- On an average, 70% components were given a score of A, 18% were given a score of B and 12% a score of C.\n",
    "\n",
    "- It was found that 2% of the components that were given a score of A, 10% that were given a score of B and 18% that were given a score of C, eventually failed.\n",
    "\n",
    "- If you randomly pickup a failed component, what is the probability that it had received a score of B?\n"
   ]
  },
  {
   "cell_type": "markdown",
   "metadata": {
    "colab_type": "text",
    "id": "qz8EhxOlabuS"
   },
   "source": [
    "Hint :\n",
    "\n",
    "The probablity will be given by the below formula:\n",
    "\n",
    "P(B | F) = Probability that quality score was B and the component failed/\n",
    "           Probability of any quality score and the component failed\n",
    "\n"
   ]
  },
  {
   "cell_type": "markdown",
   "metadata": {
    "colab_type": "text",
    "id": "am6Spg5gabuU"
   },
   "source": [
    "It can be written as:\n",
    "    \n",
    "P(B | F) = P(B ∩ F)* P(B) / P(F)\n",
    "\n",
    "and the formula can be break down into:\n",
    "    \n",
    "P(B | F) = P(B) * P(F | B) / (P(A) * P(F | A) + P(B) * P(F | B) + P(C) * P(F | C))\n"
   ]
  },
  {
   "cell_type": "code",
   "execution_count": 21,
   "metadata": {},
   "outputs": [
    {
     "name": "stdout",
     "output_type": "stream",
     "text": [
      "The probability that the quality is B, given the component failed is 0.336\n"
     ]
    }
   ],
   "source": [
    "prob = (.18*.10)/(.7*.02 + .18*.10 + .12*.18)\n",
    "print(f\"The probability that the quality is B, given the component failed is {prob:.3f}\")"
   ]
  },
  {
   "cell_type": "markdown",
   "metadata": {},
   "source": [
    "-----------------"
   ]
  },
  {
   "cell_type": "markdown",
   "metadata": {},
   "source": [
    "# Problems on Binomial Distribution"
   ]
  },
  {
   "cell_type": "markdown",
   "metadata": {},
   "source": [
    "HHH \n",
    "HHT\n",
    "HTH\n",
    "HTT\n",
    "THH\n",
    "THT\n",
    "TTH\n",
    "TTT"
   ]
  },
  {
   "cell_type": "code",
   "execution_count": 22,
   "metadata": {},
   "outputs": [
    {
     "data": {
      "text/plain": [
       "0.27"
      ]
     },
     "execution_count": 22,
     "metadata": {},
     "output_type": "execute_result"
    }
   ],
   "source": [
    "p = .083333*3\n",
    ".60*.45"
   ]
  },
  {
   "cell_type": "markdown",
   "metadata": {},
   "source": [
    "### 1) You flip a fair coin 10 times. What is the probability of getting 8 or more heads? "
   ]
  },
  {
   "cell_type": "code",
   "execution_count": 23,
   "metadata": {},
   "outputs": [
    {
     "data": {
      "text/plain": [
       "0.07049560546875004"
      ]
     },
     "execution_count": 23,
     "metadata": {},
     "output_type": "execute_result"
    }
   ],
   "source": [
    "#probability of flipping a heads\n",
    "p = .75\n",
    "n = 7\n",
    "k = np.arange(0, 15)\n",
    "binomial = stats.binom.pmf(k, n, p)\n",
    "binomial[1:4].sum()"
   ]
  },
  {
   "cell_type": "code",
   "execution_count": 24,
   "metadata": {},
   "outputs": [
    {
     "name": "stdout",
     "output_type": "stream",
     "text": [
      "The probability of getting 8 or more heads is 0.000\n"
     ]
    }
   ],
   "source": [
    "prob = sum(binomial[8:])\n",
    "print(f\"The probability of getting 8 or more heads is {prob:.3f}\")"
   ]
  },
  {
   "cell_type": "markdown",
   "metadata": {},
   "source": [
    "### 2) The probability that you will win a certain game is 0.3. You play the game 20 times. What is the mean of this binomial distribution?\n"
   ]
  },
  {
   "cell_type": "markdown",
   "metadata": {},
   "source": [
    "Hint :Mean = n * p "
   ]
  },
  {
   "cell_type": "code",
   "execution_count": 25,
   "metadata": {},
   "outputs": [],
   "source": [
    "def binom_mean(n: int, p: float) -> float:\n",
    "    return n * p\n",
    "\n",
    "assert binom_mean(n=10, p=.1) == 1"
   ]
  },
  {
   "cell_type": "code",
   "execution_count": 26,
   "metadata": {},
   "outputs": [
    {
     "name": "stdout",
     "output_type": "stream",
     "text": [
      "The mean of this distribuation is 6.0\n"
     ]
    }
   ],
   "source": [
    "binomial_mean = binom_mean(n=20, p=.3)\n",
    "print(f\"The mean of this distribuation is {binomial_mean:.1f}\")"
   ]
  },
  {
   "cell_type": "markdown",
   "metadata": {},
   "source": [
    "### 3) An automatic camera records the number of cars running a red light at an intersection (that is, the cars were going through when the red light was against the car). Analysis of the data shows that on average 15% of light changes record a car running a red light. Assume that the data has a binomial distribution. What is the probability that in 20 light changes there will be exactly three (3) cars running a red light?"
   ]
  },
  {
   "cell_type": "code",
   "execution_count": 27,
   "metadata": {},
   "outputs": [
    {
     "name": "stdout",
     "output_type": "stream",
     "text": [
      "The probability of exactly three cars running the red light is 0.243\n"
     ]
    }
   ],
   "source": [
    "p = .15\n",
    "n = 20\n",
    "k = np.arange(0, 20)\n",
    "binomial = stats.binom.pmf(k, n, p)\n",
    "print(f\"The probability of exactly three cars running the red light is {binomial[3]:.3f}\")"
   ]
  },
  {
   "cell_type": "markdown",
   "metadata": {},
   "source": [
    "### 4. There are 15 sets of traffic lights on the journey.The probability that a driver must stop at any one traffic light coming to Alliance University is 0.3 "
   ]
  },
  {
   "cell_type": "markdown",
   "metadata": {},
   "source": [
    "**a) What is the probability that a student must stop at exactly 2 of the 15 sets of traffic lights?**"
   ]
  },
  {
   "cell_type": "code",
   "execution_count": 28,
   "metadata": {},
   "outputs": [
    {
     "name": "stdout",
     "output_type": "stream",
     "text": [
      "The probability that a student must stop at exactly 2 traffic lights is 0.092\n"
     ]
    }
   ],
   "source": [
    "p = .3\n",
    "n = 15\n",
    "k = np.arange(0, 16)\n",
    "binomial = stats.binom.pmf(k, n, p)\n",
    "print(f\"The probability that a student must stop at exactly 2 traffic lights is {binomial[2]:.3f}\")"
   ]
  },
  {
   "cell_type": "markdown",
   "metadata": {},
   "source": [
    "**b) What is the probability that a student will be stopped at 1 or more of the 15sets of traffic lights?**"
   ]
  },
  {
   "cell_type": "code",
   "execution_count": 29,
   "metadata": {},
   "outputs": [
    {
     "name": "stdout",
     "output_type": "stream",
     "text": [
      "The probability that a student will be stopped at 1 or more traffic lights is 0.995\n"
     ]
    }
   ],
   "source": [
    "print(f\"The probability that a student will be stopped at 1 or more traffic lights is {1 - binomial[0]:.3f}\")"
   ]
  },
  {
   "cell_type": "markdown",
   "metadata": {},
   "source": [
    "### 5) Determine the mean and standard deviation of the variable X in each of the following binomial distributions:\n",
    "\n",
    "**a) n = 4 and p = 0.10**\n",
    "\n",
    "**b) n = 5 and p = 0.80**"
   ]
  },
  {
   "cell_type": "code",
   "execution_count": 30,
   "metadata": {},
   "outputs": [
    {
     "name": "stdout",
     "output_type": "stream",
     "text": [
      "a) mean: 0.4  \n",
      "   standard deviation: 0.60\n",
      "\n",
      "b) mean: 4.0 \n",
      "   standard deviation: 0.89\n"
     ]
    }
   ],
   "source": [
    "def binom_stddev(n: int, p: float) -> float:\n",
    "    return (binom_mean(n, p) * (1-p))**(1/2)\n",
    "\n",
    "n, n2 = 4, 5\n",
    "p, p2 = .1, .8\n",
    "\n",
    "print(f\"a) mean: {binom_mean(n, p)}  \\n   standard deviation: {binom_stddev(n, p):.2f}\\n\")\n",
    "print(f\"b) mean: {binom_mean(n2, p2)} \\n   standard deviation: {binom_stddev(n2, p2):.2f}\")"
   ]
  },
  {
   "cell_type": "markdown",
   "metadata": {},
   "source": [
    "### 6) A survey including 500 individuals(ages 25 and older) was conducted, it shows 28% of individuals have completed 4 years of college. For a sample of 20 individuals, answer the following."
   ]
  },
  {
   "cell_type": "markdown",
   "metadata": {},
   "source": [
    "**a) What is the probability 4 people would have completed four years of college**"
   ]
  },
  {
   "cell_type": "code",
   "execution_count": 31,
   "metadata": {},
   "outputs": [
    {
     "name": "stdout",
     "output_type": "stream",
     "text": [
      "The probability 4 people would have completed 4 years of college is 0.155\n"
     ]
    }
   ],
   "source": [
    "p = .28\n",
    "n = 20\n",
    "k = np.arange(0, 21)\n",
    "binomial = stats.binom.pmf(k, n, p)\n",
    "print(f\"The probability 4 people would have completed 4 years of college is {binomial[4]:.3f}\")"
   ]
  },
  {
   "cell_type": "markdown",
   "metadata": {},
   "source": [
    "**b) What is the probability that 3 or more people would have completed 4 years of college**"
   ]
  },
  {
   "cell_type": "code",
   "execution_count": 32,
   "metadata": {},
   "outputs": [
    {
     "name": "stdout",
     "output_type": "stream",
     "text": [
      "The probability that 3 people would have completed 4 years of college is 0.947\n"
     ]
    }
   ],
   "source": [
    "print(f\"The probability that 3 people would have completed 4 years of college is {binomial[3:].sum():.3f}\")"
   ]
  },
  {
   "cell_type": "markdown",
   "metadata": {},
   "source": [
    "### 7) If the likelihood of a tagged order form is 0.1, What is the probability that there are three tagged order forms in the sample of four?\n",
    "Hint: Use Binomial distribution equation"
   ]
  },
  {
   "cell_type": "code",
   "execution_count": 33,
   "metadata": {},
   "outputs": [
    {
     "name": "stdout",
     "output_type": "stream",
     "text": [
      "The probability that there are three tagged order forms in the sample of four is 0.004\n"
     ]
    }
   ],
   "source": [
    "p = .1\n",
    "n = 4\n",
    "k = np.arange(0, 5)\n",
    "binomial = stats.binom.pmf(k, n, p)\n",
    "print(f\"The probability that there are three tagged order forms in the sample of four is {binomial[3]:.3f}\")"
   ]
  },
  {
   "cell_type": "markdown",
   "metadata": {},
   "source": [
    "# 8) Determine the following:\n",
    "\n",
    "a) For n = 4 and p = 0.12, what is P(X = 0)?\n",
    "\n",
    "b) For n = 6 and p = 0.83, what is P(X = 5)?"
   ]
  },
  {
   "cell_type": "code",
   "execution_count": 34,
   "metadata": {},
   "outputs": [
    {
     "name": "stdout",
     "output_type": "stream",
     "text": [
      "a) P(X=0) = 0.59969536\n",
      "b) P(X=5) = 0.4017821455860002\n"
     ]
    }
   ],
   "source": [
    "binomial1 = stats.binom.pmf(np.arange(0, 5), 4, .12)\n",
    "binomial2 = stats.binom.pmf(np.arange(0, 7), 6, .83)\n",
    "print(f\"a) P(X=0) = {binomial1[0]}\")\n",
    "print(f\"b) P(X=5) = {binomial2[5]}\")"
   ]
  },
  {
   "cell_type": "markdown",
   "metadata": {},
   "source": [
    "-----------------"
   ]
  },
  {
   "cell_type": "markdown",
   "metadata": {},
   "source": [
    "## Problems on Poisson Distribution"
   ]
  },
  {
   "cell_type": "markdown",
   "metadata": {},
   "source": [
    "### 1) Assume a poisson distribution with lambda = 5.0. What is the probability that"
   ]
  },
  {
   "cell_type": "markdown",
   "metadata": {},
   "source": [
    "**a) X <= 1?**"
   ]
  },
  {
   "cell_type": "code",
   "execution_count": 35,
   "metadata": {},
   "outputs": [
    {
     "name": "stdout",
     "output_type": "stream",
     "text": [
      "P(X <= 1) is 0.040427681994512805\n"
     ]
    }
   ],
   "source": [
    "rate = 5\n",
    "n = np.arange(0 , 20)\n",
    "prob = stats.poisson.pmf(n, rate)[:2].sum()\n",
    "print(f\"P(X <= 1) is {prob}\")"
   ]
  },
  {
   "cell_type": "code",
   "execution_count": null,
   "metadata": {},
   "outputs": [],
   "source": []
  },
  {
   "cell_type": "markdown",
   "metadata": {},
   "source": [
    "**b) X > 1?**"
   ]
  },
  {
   "cell_type": "code",
   "execution_count": 36,
   "metadata": {},
   "outputs": [
    {
     "name": "stdout",
     "output_type": "stream",
     "text": [
      "P(X > 1) is 0.9595723180054871\n"
     ]
    }
   ],
   "source": [
    "print(f\"P(X > 1) is {1-prob}\")"
   ]
  },
  {
   "cell_type": "markdown",
   "metadata": {},
   "source": [
    "### 2) The number of work related injuries per month in a manufacturing plant is known to follow a Poisson distribution, with a mean of 2.5 work-related injuries a month.\n",
    "\n",
    "Hint: Use Poisson distribution equation, find X = 0, Given lambda = 2.5"
   ]
  },
  {
   "cell_type": "markdown",
   "metadata": {},
   "source": [
    "**a) What is the probability that in a given month, no work-related injuries occur?**\n",
    "\n"
   ]
  },
  {
   "cell_type": "code",
   "execution_count": 37,
   "metadata": {},
   "outputs": [
    {
     "name": "stdout",
     "output_type": "stream",
     "text": [
      "The probability that in a given month, no work-related injuries is 0.0820849986238988\n"
     ]
    }
   ],
   "source": [
    "rate = 2.5\n",
    "n = np.arange(0, 20)\n",
    "poisson = stats.poisson.pmf(n, rate)\n",
    "print(f\"The probability that in a given month, no work-related injuries is {poisson[0]}\")"
   ]
  },
  {
   "cell_type": "markdown",
   "metadata": {},
   "source": [
    "**b) That at least one work- related injury occurs?**"
   ]
  },
  {
   "cell_type": "code",
   "execution_count": 38,
   "metadata": {},
   "outputs": [
    {
     "name": "stdout",
     "output_type": "stream",
     "text": [
      "The probability that at least one work-related injury occurs is 0.9179150013726206\n"
     ]
    }
   ],
   "source": [
    "print(f\"The probability that at least one work-related injury occurs is {poisson[1:].sum()}\")"
   ]
  },
  {
   "cell_type": "markdown",
   "metadata": {},
   "source": [
    "### 3) A 5-liter bucket of water is taken from a swamp. The water contains 75 mosquito larvae. A 200mL flask of water is taken from the bucket for further analysis. What is"
   ]
  },
  {
   "cell_type": "markdown",
   "metadata": {},
   "source": [
    "Hint: \n",
    "\n",
    "lambda = \n",
    "Number of larvae in 5L = 75\n",
    "\n",
    "\n",
    "Number of larvae in 1mL = 75/5000\n",
    "\n",
    "Number of larvae in 200mL = (75/5000) * 200\n",
    "\n",
    "lambda = 3"
   ]
  },
  {
   "cell_type": "markdown",
   "metadata": {},
   "source": [
    "**a) the expected number of larvae in the flask?**\n",
    "\n",
    "Hint: expected value of a poisson distribution is equal to lambda"
   ]
  },
  {
   "cell_type": "code",
   "execution_count": 39,
   "metadata": {},
   "outputs": [
    {
     "name": "stdout",
     "output_type": "stream",
     "text": [
      "The expected value is 2.999999998323492\n"
     ]
    }
   ],
   "source": [
    "rate = 3\n",
    "n = np.arange(0, 20)\n",
    "poisson = stats.poisson.pmf(n, rate)\n",
    "expected_value = np.array([(i*p) for i,p in enumerate(poisson)]).sum()\n",
    "print(f\"The expected value is {expected_value}\")"
   ]
  },
  {
   "cell_type": "markdown",
   "metadata": {},
   "source": [
    "**b) the probability that the flask contains at least one mosquito lava?**"
   ]
  },
  {
   "cell_type": "code",
   "execution_count": 40,
   "metadata": {},
   "outputs": [
    {
     "name": "stdout",
     "output_type": "stream",
     "text": [
      "The probability that the flask contains at least one mosiquito lava is 0.9502129315489921\n"
     ]
    }
   ],
   "source": [
    "print(f\"The probability that the flask contains at least one mosiquito lava is {poisson[1:].sum()}\")"
   ]
  },
  {
   "cell_type": "markdown",
   "metadata": {
    "colab_type": "text",
    "id": "9mSTa1iFabus"
   },
   "source": [
    "### 4) A bank is interested in studying the number of people who use the ATM located outside during night hours. On an average, 1.6 customers walk up to the ATM during a 10-minute interval, between 9 pm and midnight. "
   ]
  },
  {
   "cell_type": "code",
   "execution_count": 41,
   "metadata": {},
   "outputs": [
    {
     "data": {
      "text/plain": [
       "array([2.01896518e-01, 3.23034429e-01, 2.58427543e-01, 1.37828023e-01,\n",
       "       5.51312092e-02, 1.76419869e-02, 4.70452985e-03, 1.07532111e-03,\n",
       "       2.15064222e-04, 3.82336394e-05, 6.11738231e-06, 8.89801063e-07,\n",
       "       1.18640142e-07, 1.46018636e-08, 1.66878441e-09, 1.78003670e-10,\n",
       "       1.78003670e-11, 1.67532866e-12, 1.48918103e-13, 1.25404719e-14])"
      ]
     },
     "execution_count": 41,
     "metadata": {},
     "output_type": "execute_result"
    }
   ],
   "source": [
    "rate = 1.6\n",
    "n = np.arange(0, 20)\n",
    "poisson = stats.poisson.pmf(n, rate)\n",
    "poisson"
   ]
  },
  {
   "cell_type": "markdown",
   "metadata": {
    "colab_type": "text",
    "id": "P4S_bKRqabuu"
   },
   "source": [
    "**a) Find the probability of exactly 3 customers using the ATM in a 10-minute interval.**"
   ]
  },
  {
   "cell_type": "code",
   "execution_count": 42,
   "metadata": {},
   "outputs": [
    {
     "name": "stdout",
     "output_type": "stream",
     "text": [
      "The probability of exactly three customers using the ATM in a 10 minute interval is 0.13782802295101812\n"
     ]
    }
   ],
   "source": [
    "print(f\"The probability of exactly three customers using the ATM in a 10 minute interval is {poisson[3]}\")"
   ]
  },
  {
   "cell_type": "markdown",
   "metadata": {
    "colab_type": "text",
    "id": "ll387q7_abu8"
   },
   "source": [
    "**b) What is the probability of 3 or fewer customers using the ATM?**"
   ]
  },
  {
   "cell_type": "code",
   "execution_count": 43,
   "metadata": {},
   "outputs": [
    {
     "name": "stdout",
     "output_type": "stream",
     "text": [
      "The probability of threee fewer customers using the ATM is 0.9211865127702822\n"
     ]
    }
   ],
   "source": [
    "print(f\"The probability of threee fewer customers using the ATM is {1 - poisson[4:].sum()}\")"
   ]
  },
  {
   "cell_type": "markdown",
   "metadata": {},
   "source": [
    "----------------------------"
   ]
  },
  {
   "cell_type": "markdown",
   "metadata": {},
   "source": [
    "## Problems on Normal Distribution"
   ]
  },
  {
   "cell_type": "markdown",
   "metadata": {},
   "source": [
    "### 1) A radar unit is used to measure speeds of cars on a Highway. The speeds are normally distributed with a mean of 70 km/hr and a standard deviation of 10 km/hr."
   ]
  },
  {
   "cell_type": "markdown",
   "metadata": {},
   "source": [
    "**a) What is the probability that a car picked at random is traveling at more than 100 km/hr?**"
   ]
  },
  {
   "cell_type": "code",
   "execution_count": 44,
   "metadata": {},
   "outputs": [],
   "source": [
    "def z(xbar: float, mu: float, stddev: float) -> float:\n",
    "    return (xbar - mu)/stddev\n",
    "\n",
    "assert z(1, 0, 1) == 1"
   ]
  },
  {
   "cell_type": "code",
   "execution_count": 45,
   "metadata": {},
   "outputs": [
    {
     "name": "stdout",
     "output_type": "stream",
     "text": [
      "The probability that a car picked at random is traveling at more than 100 km/hr is 0.0013498980316301035\n"
     ]
    }
   ],
   "source": [
    "prob = 1 - stats.norm.cdf(z(100, 70, 10))\n",
    "print(f\"The probability that a car picked at random is traveling at more than 100 km/hr is {prob}\")"
   ]
  },
  {
   "cell_type": "markdown",
   "metadata": {},
   "source": [
    "**b) What is the probability that the car speed is between 80 Km / hr and 100 Km / hr**"
   ]
  },
  {
   "cell_type": "code",
   "execution_count": 46,
   "metadata": {},
   "outputs": [
    {
     "name": "stdout",
     "output_type": "stream",
     "text": [
      "The probability that the car speed is between 80km/hr and 100km/hr is 0.15730535589982697\n"
     ]
    }
   ],
   "source": [
    "prob = stats.norm.cdf(z(100, 70, 10)) - stats.norm.cdf(z(80, 70, 10))\n",
    "print(f\"The probability that the car speed is between 80km/hr and 100km/hr is {prob}\")"
   ]
  },
  {
   "cell_type": "markdown",
   "metadata": {
    "colab_type": "text",
    "id": "BccNve9rabtH"
   },
   "source": [
    "### 2) For on-campus recruitment Ms. Z has sat for tests by Company A and Company B. For both tests her score is 50. It is known that for Company A, scores have a normal distribution with mean 40 and standard deviation 15 whereas for Company B, scores have a normal distribution with mean 45 and standard deviation 10. Relatively speaking in which test has Ms. Z done better?"
   ]
  },
  {
   "cell_type": "code",
   "execution_count": 47,
   "metadata": {},
   "outputs": [
    {
     "name": "stdout",
     "output_type": "stream",
     "text": [
      "Ms. Z has done better in Test A with a z score of 0.667\n"
     ]
    }
   ],
   "source": [
    "za = z(50, 40, 15)\n",
    "zb = z(50, 45, 10)\n",
    "\n",
    "if za > zb:\n",
    "    print(f\"Ms. Z has done better in Test A with a z score of {za:.3f}\")\n",
    "elif za < zb:\n",
    "    print(f\"Ms. Z has done better in Test B with a z score of {zb:.3f}\")\n",
    "else:\n",
    "    print(\"Both of Ms. Z's test scores are equally good.\")\n"
   ]
  },
  {
   "cell_type": "markdown",
   "metadata": {},
   "source": [
    "### 3) Why the need for Standardization?"
   ]
  },
  {
   "cell_type": "markdown",
   "metadata": {},
   "source": [
    "We need standarization to determine our z scores and find the probability under the distribution curve. Standardization also helps show the variation within the distribution."
   ]
  },
  {
   "cell_type": "markdown",
   "metadata": {},
   "source": [
    "### 4) What is the area under the curve of a probability distribution? Explain."
   ]
  },
  {
   "cell_type": "markdown",
   "metadata": {},
   "source": [
    "The total area under the curve represents the total probability of an event occuring. The total area under the curve is equal to 1, which represents a 100% likelihood of occurence."
   ]
  },
  {
   "cell_type": "markdown",
   "metadata": {},
   "source": [
    "### 5) After a course in business statistics, 300 students sat for a written examination. The result of exam gives the following information: Marks obtained have a mean of 60 and a standard deviation of 12 and the pattern of marks follows a normal distribution"
   ]
  },
  {
   "cell_type": "markdown",
   "metadata": {},
   "source": [
    "**a) what is the percentage of students who score more than 80**"
   ]
  },
  {
   "cell_type": "code",
   "execution_count": 48,
   "metadata": {},
   "outputs": [
    {
     "name": "stdout",
     "output_type": "stream",
     "text": [
      "The percentage of students who score more than 80 is 4.78%\n"
     ]
    }
   ],
   "source": [
    "perc = 100 * (1 - stats.norm.cdf(z(80,60,12)))\n",
    "print(f\"The percentage of students who score more than 80 is {perc:.2f}%\")"
   ]
  },
  {
   "cell_type": "markdown",
   "metadata": {},
   "source": [
    "**b) What is the percentage of students who score less than 50**"
   ]
  },
  {
   "cell_type": "code",
   "execution_count": 49,
   "metadata": {},
   "outputs": [
    {
     "name": "stdout",
     "output_type": "stream",
     "text": [
      "The percentage of students who score less than 50 is 79.77%\n"
     ]
    }
   ],
   "source": [
    "perc = 100 * (1 - (stats.norm.cdf(50, loc=60, scale=12)))\n",
    "print(f\"The percentage of students who score less than 50 is {perc:.2f}%\")"
   ]
  }
 ],
 "metadata": {
  "kernelspec": {
   "display_name": "Python 3",
   "language": "python",
   "name": "python3"
  },
  "language_info": {
   "codemirror_mode": {
    "name": "ipython",
    "version": 3
   },
   "file_extension": ".py",
   "mimetype": "text/x-python",
   "name": "python",
   "nbconvert_exporter": "python",
   "pygments_lexer": "ipython3",
   "version": "3.8.5"
  }
 },
 "nbformat": 4,
 "nbformat_minor": 4
}
